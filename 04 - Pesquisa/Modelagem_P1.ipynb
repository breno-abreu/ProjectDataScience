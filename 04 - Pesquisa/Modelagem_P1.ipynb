{
 "cells": [
  {
   "cell_type": "code",
   "execution_count": 1,
   "metadata": {},
   "outputs": [],
   "source": [
    "import scipy.stats as stats\n",
    "import numpy as np"
   ]
  },
  {
   "attachments": {},
   "cell_type": "markdown",
   "metadata": {},
   "source": [
    "# MODELAGEM DA HIPÓTESE 1 (PERGUNTA 1)"
   ]
  },
  {
   "attachments": {},
   "cell_type": "markdown",
   "metadata": {},
   "source": [
    "## Dados que serão usados\n",
    "- Quantidade total de ocorrências por dia da semana desde 2009 até 2022."
   ]
  },
  {
   "cell_type": "code",
   "execution_count": 2,
   "metadata": {},
   "outputs": [],
   "source": [
    "# Dados das ocorrências nos fins de semana\n",
    "# DOMINGO E SÁBADO\n",
    "fins_de_semana = [65919, 69202]\n",
    "\n",
    "# Dados das ocorrências nos dias de semana\n",
    "dias_de_semana = [54845, 56578, 58610, 61020, 63172]"
   ]
  },
  {
   "attachments": {},
   "cell_type": "markdown",
   "metadata": {},
   "source": [
    "## TESTE U de MANN-WHITNEY"
   ]
  },
  {
   "cell_type": "code",
   "execution_count": 3,
   "metadata": {},
   "outputs": [
    {
     "name": "stdout",
     "output_type": "stream",
     "text": [
      "Estatística U: 10.0\n",
      "p-value: 0.047619047619047616\n"
     ]
    }
   ],
   "source": [
    "# É utilizado o parâmetro alternative = 'greater', pois queremos validar a hipótese\n",
    "# de que nos finais de semana há um maior número de ocorrência que nos dias de semana \n",
    "# Hipótese nula (H0): Não há diferença estatisticamente significativa entre o número de ocorrências nos dias de semana e nos finais de semana.\n",
    "# Hipótese alternativa (H1): O número de ocorrências nos fins de semana é estatisticamente maior do que nos dias de semana.\n",
    "\n",
    "u_statistic, p_value = stats.mannwhitneyu(\n",
    "    x = fins_de_semana,\n",
    "    y = dias_de_semana,\n",
    "    alternative = 'greater',\n",
    ")\n",
    "\n",
    "\n",
    "print(\"Estatística U:\", u_statistic)\n",
    "print(\"p-value:\", p_value)\n",
    "\n",
    "# Como p < 0.05, portanto rejeita-se a hipótese nula e aceita-se a hipótese alternativa\n",
    "# indicando que há sim diferenças estatisticamente significativas indicando um maior\n",
    "# número de ocorrências aos finais de semana do que nos demais dias da semana."
   ]
  },
  {
   "attachments": {},
   "cell_type": "markdown",
   "metadata": {},
   "source": [
    "# MODELAGEM DA HIPÓTESE 2 (PERGUNTA 1)"
   ]
  },
  {
   "attachments": {},
   "cell_type": "markdown",
   "metadata": {},
   "source": [
    "## DADOS UTILIZADOS\n",
    "- Quantidade total de ocorrências por mês no período de 2009 até 2022."
   ]
  },
  {
   "cell_type": "code",
   "execution_count": 68,
   "metadata": {},
   "outputs": [],
   "source": [
    "meses_inverno = [\n",
    "    35361,\n",
    "    37295,\n",
    "    37167,\n",
    "    36078,\n",
    "]\n",
    "\n",
    "outros_meses = [\n",
    "    34801,\n",
    "    32389,\n",
    "    38840,\n",
    "    36016,\n",
    "    37766,\n",
    "    36486,\n",
    "    34035,\n",
    "    33112,\n",
    "]"
   ]
  },
  {
   "attachments": {},
   "cell_type": "markdown",
   "metadata": {},
   "source": [
    "## TESTE U de MANN-WHITNEY"
   ]
  },
  {
   "cell_type": "code",
   "execution_count": 69,
   "metadata": {},
   "outputs": [
    {
     "name": "stdout",
     "output_type": "stream",
     "text": [
      "Estatistica U: 21.0\n",
      "p-value: 0.8161616161616161\n"
     ]
    }
   ],
   "source": [
    "# É utilizado o parâmetro alternative = 'less', pois queremos validar a hipótese de que há menos ocorrências nos meses de inverno.\n",
    "# Hipótese nula (H0): Não há diferença estatisticamente significativa entre o número de ocorrências nos meses de inverno do que nos meses de outras estações.\n",
    "    # alternative='two-sided',\n",
    "# Hipótese alternativa (H1): O número de ocorrências nos dias de semana é estatisticamente menor do que nos outros meses.\n",
    "\n",
    "u_statistic, p_value = stats.mannwhitneyu(\n",
    "    x = meses_inverno,\n",
    "    y = outros_meses,\n",
    "    alternative = 'less',\n",
    ")\n",
    "\n",
    "print(\"Estatistica U:\", u_statistic)\n",
    "print(\"p-value:\", p_value)\n",
    "\n",
    "# Não é possível rejeitar a hipótese nula, pois p > 0.05, portanto,\n",
    "# não há evidências de que os meses de inverno possuem\n",
    "# menor número de ocorrências que os meses de outras estações."
   ]
  },
  {
   "attachments": {},
   "cell_type": "markdown",
   "metadata": {},
   "source": [
    "## TESTE T INDEPENDENTE"
   ]
  },
  {
   "attachments": {},
   "cell_type": "markdown",
   "metadata": {},
   "source": [
    "### Verificação dos pressupostos do teste t independente"
   ]
  },
  {
   "attachments": {},
   "cell_type": "markdown",
   "metadata": {},
   "source": [
    "### NORMALIDADE DOS GRUPOS DE DADOS\n",
    "- TESTE DE ANDERSON UTILIZADO.\n",
    "- ESTE TESTE PERMITE VERIFICAR O PRIMEIRO PRESSUPOSTO PARA UTILIZAÇÃO DO TESTE T INDEPENDENTE"
   ]
  },
  {
   "cell_type": "code",
   "execution_count": 70,
   "metadata": {},
   "outputs": [
    {
     "name": "stdout",
     "output_type": "stream",
     "text": [
      "AndersonResult(statistic=0.3018166255221102, critical_values=array([1.317, 1.499, 1.799, 2.098, 2.496]), significance_level=array([15. , 10. ,  5. ,  2.5,  1. ]))\n",
      "AndersonResult(statistic=0.14640548964275268, critical_values=array([0.519, 0.591, 0.709, 0.827, 0.984]), significance_level=array([15. , 10. ,  5. ,  2.5,  1. ]))\n"
     ]
    }
   ],
   "source": [
    "# H0: OS VALORES VIERAM DE UMA DISTRIBUIÇÃO NORMAL.\n",
    "# H1: OS VALORES NÃO VIERAM DE UMA DISTRIBUIÇÃO NORMAL.\n",
    "\n",
    "#  SE O VALOR DA ESTATÍSTICA FOR MAIOR DO QUE OS VALORES \n",
    "#  CRÍTICOS PARA SEUS RESPECTIVOS NÍVEIS DE SIGNIFICÂNCIA\n",
    "#  A HIPÓTESE NULA DE QUE ELES VIERAM DA DISTRIBUIÇÃO PASSADA\n",
    "#  PODE SER REJEITADA.\n",
    "\n",
    "# Teste Anderson para os meses de inverno\n",
    "statistic = stats.anderson(\n",
    "    meses_inverno,\n",
    "    dist = 'norm'\n",
    ")\n",
    "print(statistic)\n",
    "\n",
    "# Teste Anderson para os meses de outras estações\n",
    "statistic = stats.anderson(\n",
    "    outros_meses,\n",
    "    dist = 'norm'\n",
    ")\n",
    "\n",
    "print(statistic)\n",
    "# Com um nível de significância de 5% ambas as distribuições são provenientes de distribuições normalizadas.\n",
    "# Pois os valores de estatística são menores do que o valor crítico."
   ]
  },
  {
   "attachments": {},
   "cell_type": "markdown",
   "metadata": {},
   "source": [
    "### HOMOGENEIDADE DA VARIÂNCIA\n",
    "- TESTE DE LEVENE UTILIZADO\n",
    "- ESTE TESTE PERMITE VERIFICAR O SEGUNDO PRESSUPOSTO PARA UTILIZAÇÃO DO TESTE T INDEPENDENTE"
   ]
  },
  {
   "cell_type": "code",
   "execution_count": 71,
   "metadata": {},
   "outputs": [
    {
     "name": "stdout",
     "output_type": "stream",
     "text": [
      "p-value: 0.08357312783980747\n"
     ]
    }
   ],
   "source": [
    "# H0: OS GRUPOS APRESENTAM VARIÂNCIA HOMOGÊNEA;\n",
    "# H1: OS GRUPOS NÃO APRESENTAM VARIÂNCIA HOMOGÊNEA.\n",
    "\n",
    "# SE O VALOR DE P-VALUE < 0.05 COM ESTE TESTE, REJEITA-SE A\n",
    "# HIPÓTESE NULA DE QUE OS DADOS SÃO PROVENIENTES DE CONJUNTOS\n",
    "# COM A VARIÂNCIA HOMOGÊNEA\n",
    "\n",
    "# Teste de homogeneidade de variâncias\n",
    "\n",
    "\n",
    "# COMO p-value ENCOTRADO É MAIOR DO QUE 0,05 ACEITA-SE A HIPÓTESE NULA (H0).\n",
    "# PORTANTO A VARIÂNCIA DE AMBOS OS GRUPOS DE MESES É HOMOGÊNEA.\n",
    "\n",
    "_, p_value = stats.levene(meses_inverno, outros_meses)\n",
    "print(\"p-value:\", p_value)"
   ]
  },
  {
   "attachments": {},
   "cell_type": "markdown",
   "metadata": {},
   "source": [
    "### REALIZAÇÃO DO TESTE T INDEPENDENTE"
   ]
  },
  {
   "cell_type": "code",
   "execution_count": 72,
   "metadata": {},
   "outputs": [
    {
     "name": "stdout",
     "output_type": "stream",
     "text": [
      "t-value: 0.8744479914748855\n",
      "p-value: 0.7988063992929931\n"
     ]
    }
   ],
   "source": [
    "# H0: OS MESES DE INVERNO E DE OUTRAS ESTAÇÕES POSSUEM A MESMA MÉDIA DE NÚMERO DE OCORRÊNCIAS.\n",
    "# H1: OS MESES DE INVERNO POSSUEM MENOR MÉDIA DE OCORRÊNCIAS.\n",
    "\n",
    "# Realizar o teste t independente\n",
    "\n",
    "t_statistic, p_value = stats.ttest_ind(\n",
    "    meses_inverno,\n",
    "    outros_meses,\n",
    "    alternative = 'less'\n",
    ")\n",
    "\n",
    "# print(f\"meses_inverno: {meses_inverno}\")\n",
    "# print(f\"outros_meses: {outros_meses}\")\n",
    "\n",
    "# Imprimir os resultados\n",
    "print(\"t-value:\", t_statistic)\n",
    "print(\"p-value:\", p_value)\n",
    "\n",
    "# COMO p-value > 0.05, ACEITA-SE A HIPÓTESE NULA E, PORTANTO, NÃO POSSUEM DIFERENÇA ESTATÍSTICA SIGNIFICATIVA."
   ]
  },
  {
   "attachments": {},
   "cell_type": "markdown",
   "metadata": {},
   "source": [
    "# MODELAGEM DA HIPÓTESE 3 (PERGUNTA 1)"
   ]
  },
  {
   "attachments": {},
   "cell_type": "markdown",
   "metadata": {},
   "source": [
    "## DADOS UTILIZADOS\n",
    "- Quantidade total de ocorrências por hora do dia no período de 2009 até 2022."
   ]
  },
  {
   "cell_type": "code",
   "execution_count": 73,
   "metadata": {},
   "outputs": [],
   "source": [
    "periodo_noturno = [\n",
    "    15163, # 0  \n",
    "    11147, # 1\n",
    "    8281, # 2\n",
    "    6102, # 3\n",
    "    4752, # 4\n",
    "    5233, # 5\n",
    "    18963, # 18\n",
    "    24752, # 19\n",
    "    23509, # 20\n",
    "    21770, # 21\n",
    "    22425, # 22\n",
    "    20779, # 23\n",
    "]\n",
    "\n",
    "periodo_diurno = [\n",
    "    5060, # 6\n",
    "    10855, # 7\n",
    "    17551, # 8\n",
    "    21556, # 9\n",
    "    23834, # 10\n",
    "    22119, # 11\n",
    "    16560, # 12\n",
    "    19395, # 13\n",
    "    25680, # 14\n",
    "    28749, # 15\n",
    "    28209, # 16\n",
    "    26902, # 17\n",
    "]"
   ]
  },
  {
   "attachments": {},
   "cell_type": "markdown",
   "metadata": {},
   "source": [
    "## TESTE U de MANN-WHITNEY"
   ]
  },
  {
   "cell_type": "code",
   "execution_count": 79,
   "metadata": {},
   "outputs": [
    {
     "name": "stdout",
     "output_type": "stream",
     "text": [
      "Estatística do teste U: 44.0\n",
      "p-value: 0.9500612986153679\n"
     ]
    }
   ],
   "source": [
    "# É utilizado o parâmetro alternative = 'less', pois queremos validar a hipótese de que há menos ocorrências nos meses de inverno.\n",
    "# Hipótese nula (H0): Não há diferença estatisticamente significativa entre o número de ocorrências no período diurno do que no período noturno.\n",
    "# Hipótese alternativa (H1): O número de ocorrências no período noturno é estatisticamente maior do que no período diurno.\n",
    "\n",
    "statistic_value, p_value = stats.mannwhitneyu(\n",
    "    x = periodo_noturno,\n",
    "    y = periodo_diurno,\n",
    "    # alternative='two-sided',\n",
    "    alternative = 'greater',\n",
    ")\n",
    "\n",
    "print(\"Estatística do teste U:\", statistic_value)\n",
    "print(\"p-value:\", p_value)\n",
    "\n",
    "# Não é possível rejeitar a hipótese nula, pois p > 0.05, portanto,\n",
    "# não há evidências de que os meses de inverno possuem\n",
    "# menor número de ocorrências que os meses de outras estações."
   ]
  },
  {
   "attachments": {},
   "cell_type": "markdown",
   "metadata": {},
   "source": [
    "## TESTE T INDEPENDENTE"
   ]
  },
  {
   "attachments": {},
   "cell_type": "markdown",
   "metadata": {},
   "source": [
    "### Verificação dos pressupostos do teste t independente"
   ]
  },
  {
   "attachments": {},
   "cell_type": "markdown",
   "metadata": {},
   "source": [
    "### NORMALIDADE DOS GRUPOS DE DADOS\n",
    "- TESTE DE ANDERSON-DARLING UTILIZADO.\n",
    "- ESTE TESTE PERMITE VERIFICAR O PRIMEIRO PRESSUPOSTO PARA UTILIZAÇÃO DO TESTE T INDEPENDENTE"
   ]
  },
  {
   "cell_type": "code",
   "execution_count": 80,
   "metadata": {},
   "outputs": [
    {
     "name": "stdout",
     "output_type": "stream",
     "text": [
      "AndersonResult(statistic=0.575009849793938, critical_values=array([0.497, 0.566, 0.679, 0.792, 0.942]), significance_level=array([15. , 10. ,  5. ,  2.5,  1. ]))\n",
      "AndersonResult(statistic=0.3368214193176211, critical_values=array([0.497, 0.566, 0.679, 0.792, 0.942]), significance_level=array([15. , 10. ,  5. ,  2.5,  1. ]))\n"
     ]
    }
   ],
   "source": [
    "# H0: OS VALORES VIERAM DE UMA DISTRIBUIÇÃO NORMAL.\n",
    "# H1: OS VALORES NÃO VIERAM DE UMA DISTRIBUIÇÃO NORMAL.\n",
    "\n",
    "#  SE O VALOR DA ESTATÍSTICA FOR MAIOR DO QUE OS VALORES \n",
    "#  CRÍTICOS PARA SEUS RESPECTIVOS NÍVEIS DE SIGNIFICÂNCIA\n",
    "#  A HIPÓTESE NULA DE QUE ELES VIERAM DA DISTRIBUIÇÃO PASSADA\n",
    "#  PODE SER REJEITADA.\n",
    "\n",
    "# Teste Anderson para os meses de inverno\n",
    "statistic = stats.anderson(\n",
    "    periodo_noturno,\n",
    "    dist = 'norm'\n",
    ")\n",
    "print(statistic)\n",
    "\n",
    "# Teste Anderson para os meses de inverno\n",
    "statistic_result = stats.anderson(\n",
    "    periodo_diurno,\n",
    "    dist = 'norm'\n",
    ")\n",
    "print(statistic_result)\n",
    "# Com um nível de significância de 5% ambas as distribuições são provenientes de distribuições normalizadas.\n",
    "# Pois os valores de estatística são menores do que o respectivo valor crítico."
   ]
  },
  {
   "attachments": {},
   "cell_type": "markdown",
   "metadata": {},
   "source": [
    "### HOMOGENEIDADE DA VARIÂNCIA\n",
    "- TESTE DE LEVENE UTILIZADO\n",
    "- ESTE TESTE PERMITE VERIFICAR O SEGUNDO PRESSUPOSTO PARA UTILIZAÇÃO DO TESTE T INDEPENDENTE"
   ]
  },
  {
   "cell_type": "code",
   "execution_count": 81,
   "metadata": {},
   "outputs": [
    {
     "name": "stdout",
     "output_type": "stream",
     "text": [
      "p-value: 0.4143864655416054\n"
     ]
    }
   ],
   "source": [
    "# H0: OS GRUPOS APRESENTAM VARIÂNCIA HOMOGÊNEA;\n",
    "# H1: OS GRUPOS NÃO APRESENTAM VARIÂNCIA HOMOGÊNEA.\n",
    "\n",
    "# SE O VALOR DE P-VALUE < 0.05 COM ESTE TESTE, REJEITA-SE A\n",
    "# HIPÓTESE NULA DE QUE OS DADOS SÃO PROVENIENTES DE CONJUNTOS\n",
    "# COM A VARIÂNCIA HOMOGÊNEA\n",
    "\n",
    "# Teste de homogeneidade de variâncias\n",
    "statistic_value, p_value = stats.levene(\n",
    "    periodo_noturno,\n",
    "    periodo_diurno\n",
    ")\n",
    "print(\"p-value:\", p_value)\n",
    "\n",
    "# COMO p-value ENCOTRADO É MAIOR DO QUE 0,05 ACEITA-SE A HIPÓTESE NULA (H0).\n",
    "# PORTANTO A VARIÂNCIA DE AMBOS OS GRUPOS DE MESES É HOMOGÊNEA."
   ]
  },
  {
   "attachments": {},
   "cell_type": "markdown",
   "metadata": {},
   "source": [
    "### REALIZAÇÃO DO TESTE T INDEPENDENTE"
   ]
  },
  {
   "cell_type": "code",
   "execution_count": 85,
   "metadata": {},
   "outputs": [
    {
     "name": "stdout",
     "output_type": "stream",
     "text": [
      "periodo_diurno: [5060, 10855, 17551, 21556, 23834, 22119, 16560, 19395, 25680, 28749, 28209, 26902]\n",
      "periodo_noturno: [15163, 11147, 8281, 6102, 4752, 5233, 18963, 24752, 23509, 21770, 22425, 20779]\n",
      "Média periodo noturno: 15239.67\n",
      "Média periodo diurno: 20539.17\n",
      "t-value: -1.740701281561519\n",
      "p-value: 0.9521469760586593\n"
     ]
    }
   ],
   "source": [
    "# H0: O VALOR DE MÉDIA ENTRE OS GRUPOS NÃO POSSUEM DIFERENÇAS ESTATISTIMENTE SIGNIFICATIVAS.\n",
    "# H1: O VALOR DE MÉDIA DE NÚMERO DE OCORRENCIAS DAS HORAS DO PERÍODO NOTURNO SÃO ESTATISTICAMENTE MAIORES DO QUE O GRUPO DE HORAS DO PERÍODO DIURNO.\n",
    "\n",
    "# Realizar o teste t independente\n",
    "t_statistic, p_value = stats.ttest_ind(\n",
    "    periodo_noturno,\n",
    "    periodo_diurno,\n",
    "    alternative = 'greater'\n",
    ")\n",
    "\n",
    "print(f\"periodo_diurno: {periodo_diurno}\")\n",
    "print(f\"periodo_noturno: {periodo_noturno}\")\n",
    "\n",
    "# Imprimir os resultados\n",
    "print(\"Média periodo noturno: %.2f\" % np.mean(periodo_noturno))\n",
    "print(\"Média periodo diurno: %.2f\" % np.mean(periodo_diurno))\n",
    "print(\"t-value:\", t_statistic)\n",
    "print(\"p-value:\", p_value)\n",
    "\n",
    "# COMO p-value > 0.05, ACEITA-SE A HIPÓTESE NULA E, PORTANTO, AS MÉDIAS NÃO POSSUEM DIFERENÇA ESTATÍSTICA SIGNIFICATIVA."
   ]
  },
  {
   "attachments": {},
   "cell_type": "markdown",
   "metadata": {},
   "source": [
    "# MODELAGEM DA HIPÓTESE 4 (PERGUNTA 1)"
   ]
  },
  {
   "attachments": {},
   "cell_type": "markdown",
   "metadata": {},
   "source": [
    "## DADOS UTILIZADOS\n",
    "- Quantidade total de ocorrências ``criminosas`` por hora do dia no período de 2009 até 2022.\n",
    "\n",
    "- Ocorrências criminosas remetem à natureza da ocorrência conforme um das categorias abaixo:\n",
    "\n",
    "natureza_ocorrencia_criminosa = [\n",
    "    'AGRESSÃO FÍSICA/VERBAL',\n",
    "    'LESÃO CORPORAL',\n",
    "    'CRIME AMBIENTAL',\n",
    "    'DANO',\n",
    "    'ESTUPRO',\n",
    "    'FURTO',\n",
    "    'HOMICÍDIO',\n",
    "    'ROUBO',\n",
    "    'SEQÜESTRO E CÁRCERE PRIVADO',\n",
    "    'SUBSTÂNCIA ILÍCITA',\n",
    "    'AMEAÇA',\n",
    "    'VIOLAÇÃO DE MEDIDA PROTETIVA LEI MARIA DA PENHA',\n",
    "    'EXTORSÃO',\n",
    "    'PORTE ILEGAL',\n",
    "    'DISPARO DE ARMA',\n",
    "    'FURTO',\n",
    "    'INVASÃO',\n",
    "    'ESTELIONATO',\n",
    "    'ATENTADO VIOLENTO AO PUDOR',\n",
    "    'PORTE DE ARTEFATO EXPLOSIVO',\n",
    "    'ARRASTÃO',\n",
    "]"
   ]
  },
  {
   "cell_type": "code",
   "execution_count": 95,
   "metadata": {},
   "outputs": [],
   "source": [
    "periodo_noturno_crimes_especificos = [\n",
    "    4155, # 0\n",
    "    3100, # 1\n",
    "    2678, # 2\n",
    "    2259, # 3\n",
    "    2011, # 4\n",
    "    2818, # 5\n",
    "    6003, # 18\n",
    "    8107, # 19\n",
    "    7862, # 20\n",
    "    7709, # 21\n",
    "    7733, # 22\n",
    "    6740, # 23\n",
    "]\n",
    "\n",
    "periodo_diurno_crimes_especificos = [\n",
    "    2325, # 6\n",
    "    3045, # 7\n",
    "    3826, # 8\n",
    "    4358, # 9\n",
    "    4920, # 10\n",
    "    5387, # 11\n",
    "    4993, # 12\n",
    "    5363, # 13\n",
    "    6812, # 14\n",
    "    7702, # 15\n",
    "    8188, # 16\n",
    "    7774, # 17\n",
    "]"
   ]
  },
  {
   "attachments": {},
   "cell_type": "markdown",
   "metadata": {},
   "source": [
    "## TESTE U de MANN-WHITNEY"
   ]
  },
  {
   "cell_type": "code",
   "execution_count": 94,
   "metadata": {},
   "outputs": [
    {
     "name": "stdout",
     "output_type": "stream",
     "text": [
      "Estatística do teste U: 65.0\n",
      "p-value: 0.6674972289489854\n"
     ]
    }
   ],
   "source": [
    "# É utilizado o parâmetro alternative = 'less', p.\n",
    "# Hipótese nula (H0): Não há diferença estatisticamente significativa entre o número de ocorrências criminosas no período diurno do que no período noturno.\n",
    "# Hipótese alternativa (H1): O número de ocorrências criminosas no período noturno é estatisticamente maior do que no período diurno.\n",
    "\n",
    "statistic_value, p_value = stats.mannwhitneyu(\n",
    "    x = periodo_noturno_crimes_especificos,\n",
    "    y = periodo_diurno_crimes_especificos,\n",
    "    # alternative='two-sided',\n",
    "    alternative = 'greater',\n",
    ")\n",
    "\n",
    "print(\"Estatística do teste U:\", statistic_value)\n",
    "print(\"p-value:\", p_value)\n",
    "\n",
    "# Não é possível rejeitar a hipótese nula, pois p > 0.05, portanto,\n",
    "# não há evidências de que os meses de inverno possuem\n",
    "# menor número de ocorrências que os meses de outras estações."
   ]
  },
  {
   "attachments": {},
   "cell_type": "markdown",
   "metadata": {},
   "source": [
    "## TESTE T INDEPENDENTE"
   ]
  },
  {
   "attachments": {},
   "cell_type": "markdown",
   "metadata": {},
   "source": [
    "### Verificação dos pressupostos do teste t independente"
   ]
  },
  {
   "attachments": {},
   "cell_type": "markdown",
   "metadata": {},
   "source": [
    "### NORMALIDADE DOS GRUPOS DE DADOS\n",
    "- TESTE DE ANDERSON-DARLING UTILIZADO.\n",
    "- ESTE TESTE PERMITE VERIFICAR O PRIMEIRO PRESSUPOSTO PARA UTILIZAÇÃO DO TESTE T INDEPENDENTE"
   ]
  },
  {
   "cell_type": "code",
   "execution_count": 91,
   "metadata": {},
   "outputs": [
    {
     "name": "stdout",
     "output_type": "stream",
     "text": [
      "AndersonResult(statistic=0.7498878618496754, critical_values=array([0.497, 0.566, 0.679, 0.792, 0.942]), significance_level=array([15. , 10. ,  5. ,  2.5,  1. ]))\n",
      "AndersonResult(statistic=0.27343994957915285, critical_values=array([0.497, 0.566, 0.679, 0.792, 0.942]), significance_level=array([15. , 10. ,  5. ,  2.5,  1. ]))\n"
     ]
    }
   ],
   "source": [
    "# H0: OS VALORES VIERAM DE UMA DISTRIBUIÇÃO NORMAL.\n",
    "# H1: OS VALORES NÃO VIERAM DE UMA DISTRIBUIÇÃO NORMAL.\n",
    "\n",
    "#  SE O VALOR DA ESTATÍSTICA FOR MAIOR DO QUE OS VALORES \n",
    "#  CRÍTICOS PARA SEUS RESPECTIVOS NÍVEIS DE SIGNIFICÂNCIA\n",
    "#  A HIPÓTESE NULA DE QUE ELES VIERAM DA DISTRIBUIÇÃO PASSADA\n",
    "#  PODE SER REJEITADA.\n",
    "\n",
    "# Teste Anderson para os meses de inverno\n",
    "statistic = stats.anderson(\n",
    "    periodo_noturno_crimes_especificos,\n",
    "    dist = 'norm'\n",
    ")\n",
    "print(statistic)\n",
    "\n",
    "# Teste Anderson para os meses de inverno\n",
    "statistic_result = stats.anderson(\n",
    "    periodo_diurno_crimes_especificos,\n",
    "    dist = 'norm'\n",
    ")\n",
    "print(statistic_result)\n",
    "# Com um nível de significância de 5% ambas as distribuições são provenientes de distribuições normalizadas.\n",
    "# Pois os valores de estatística são menores do que o respectivo valor crítico."
   ]
  },
  {
   "attachments": {},
   "cell_type": "markdown",
   "metadata": {},
   "source": [
    "### HOMOGENEIDADE DA VARIÂNCIA\n",
    "- TESTE DE LEVENE UTILIZADO\n",
    "- ESTE TESTE PERMITE VERIFICAR O SEGUNDO PRESSUPOSTO PARA UTILIZAÇÃO DO TESTE T INDEPENDENTE"
   ]
  },
  {
   "cell_type": "code",
   "execution_count": 93,
   "metadata": {},
   "outputs": [
    {
     "name": "stdout",
     "output_type": "stream",
     "text": [
      "p-value: 0.05764231516949057\n"
     ]
    }
   ],
   "source": [
    "# H0: OS GRUPOS APRESENTAM VARIÂNCIA HOMOGÊNEA;\n",
    "# H1: OS GRUPOS NÃO APRESENTAM VARIÂNCIA HOMOGÊNEA.\n",
    "\n",
    "# SE O VALOR DE P-VALUE < 0.05 COM ESTE TESTE, REJEITA-SE A\n",
    "# HIPÓTESE NULA DE QUE OS DADOS SÃO PROVENIENTES DE CONJUNTOS\n",
    "# COM A VARIÂNCIA HOMOGÊNEA\n",
    "\n",
    "# Teste de homogeneidade de variâncias\n",
    "statistic_value, p_value = stats.levene(\n",
    "    periodo_noturno_crimes_especificos,\n",
    "    periodo_diurno_crimes_especificos\n",
    ")\n",
    "print(\"p-value:\", p_value)\n",
    "\n",
    "# COMO p-value ENCOTRADO É MAIOR DO QUE 0,05 ACEITA-SE A HIPÓTESE NULA (H0).\n",
    "# PORTANTO A VARIÂNCIA DE AMBOS OS GRUPOS DE MESES É HOMOGÊNEA."
   ]
  },
  {
   "attachments": {},
   "cell_type": "markdown",
   "metadata": {},
   "source": [
    "### REALIZAÇÃO DO TESTE T INDEPENDENTE"
   ]
  },
  {
   "cell_type": "code",
   "execution_count": 92,
   "metadata": {},
   "outputs": [
    {
     "name": "stdout",
     "output_type": "stream",
     "text": [
      "periodo_diurno: [2325, 3045, 3826, 4358, 4920, 5387, 4993, 5363, 6812, 7702, 8188, 7774]\n",
      "periodo_noturno: [4155, 3100, 2678, 2259, 2011, 2818, 6003, 8107, 7862, 7709, 7733, 6740]\n",
      "Média periodo noturno: 5097.92\n",
      "Média periodo diurno: 5391.08\n",
      "t-value: -0.3253782763536555\n",
      "p-value: 0.6260154600439993\n"
     ]
    }
   ],
   "source": [
    "# H0: O VALOR DE MÉDIA ENTRE OS GRUPOS NÃO POSSUEM DIFERENÇAS ESTATISTIMENTE SIGNIFICATIVAS.\n",
    "# H1: O VALOR DE MÉDIA DE NÚMERO DE OCORRENCIAS CRIMINOSAS DAS HORAS DO PERÍODO NOTURNO SÃO ESTATISTICAMENTE MAIORES DO QUE O GRUPO DE HORAS DO PERÍODO DIURNO.\n",
    "\n",
    "# Realizar o teste t independente\n",
    "t_statistic, p_value = stats.ttest_ind(\n",
    "    periodo_noturno_crimes_especificos,\n",
    "    periodo_diurno_crimes_especificos,\n",
    "    alternative = 'greater'\n",
    ")\n",
    "\n",
    "print(f\"periodo_diurno: {periodo_diurno_crimes_especificos}\")\n",
    "print(f\"periodo_noturno: {periodo_noturno_crimes_especificos}\")\n",
    "\n",
    "# Imprimir os resultados\n",
    "print(\"Média periodo noturno: %.2f\" % np.mean(periodo_noturno_crimes_especificos))\n",
    "print(\"Média periodo diurno: %.2f\" % np.mean(periodo_diurno_crimes_especificos))\n",
    "print(\"t-value:\", t_statistic)\n",
    "print(\"p-value:\", p_value)\n",
    "\n",
    "# COMO p-value > 0.05, ACEITA-SE A HIPÓTESE NULA E, PORTANTO, AS MÉDIAS NÃO POSSUEM DIFERENÇA ESTATÍSTICA SIGNIFICATIVA."
   ]
  }
 ],
 "metadata": {
  "kernelspec": {
   "display_name": "Python 3 (ipykernel)",
   "language": "python",
   "name": "python3"
  },
  "language_info": {
   "codemirror_mode": {
    "name": "ipython",
    "version": 3
   },
   "file_extension": ".py",
   "mimetype": "text/x-python",
   "name": "python",
   "nbconvert_exporter": "python",
   "pygments_lexer": "ipython3",
   "version": "3.9.13"
  }
 },
 "nbformat": 4,
 "nbformat_minor": 2
}
