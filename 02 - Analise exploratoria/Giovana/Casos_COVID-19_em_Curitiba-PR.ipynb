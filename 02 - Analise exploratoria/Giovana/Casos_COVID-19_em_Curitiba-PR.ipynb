{
 "cells": [
  {
   "cell_type": "code",
   "execution_count": 2,
   "id": "e00fea73",
   "metadata": {},
   "outputs": [],
   "source": [
    "import math\n",
    "import pandas as pd\n",
    "%matplotlib inline"
   ]
  },
  {
   "cell_type": "markdown",
   "id": "747c8c35",
   "metadata": {},
   "source": [
    "## Casos de COVID-19 em Curitiba\n",
    "\n",
    "Relatório contendo as informações sobre o número de casos de COVID-19 no município de Curitiba."
   ]
  },
  {
   "cell_type": "markdown",
   "id": "6f8d82ac",
   "metadata": {},
   "source": [
    "### Dicionário de dados de casos de COVID-19"
   ]
  },
  {
   "cell_type": "code",
   "execution_count": 3,
   "id": "a9bf5f20",
   "metadata": {},
   "outputs": [
    {
     "data": {
      "text/html": [
       "<div>\n",
       "<style scoped>\n",
       "    .dataframe tbody tr th:only-of-type {\n",
       "        vertical-align: middle;\n",
       "    }\n",
       "\n",
       "    .dataframe tbody tr th {\n",
       "        vertical-align: top;\n",
       "    }\n",
       "\n",
       "    .dataframe thead th {\n",
       "        text-align: right;\n",
       "    }\n",
       "</style>\n",
       "<table border=\"1\" class=\"dataframe\">\n",
       "  <thead>\n",
       "    <tr style=\"text-align: right;\">\n",
       "      <th></th>\n",
       "      <th>Nome do Campo</th>\n",
       "      <th>Descrição</th>\n",
       "    </tr>\n",
       "  </thead>\n",
       "  <tbody>\n",
       "    <tr>\n",
       "      <th>0</th>\n",
       "      <td>DATA INCLUSÃO</td>\n",
       "      <td>Data em que caso de COVID foi incluído na base...</td>\n",
       "    </tr>\n",
       "    <tr>\n",
       "      <th>1</th>\n",
       "      <td>CLASSIFICAÇÃO</td>\n",
       "      <td>Informa se o caso do COVID foi confirmado</td>\n",
       "    </tr>\n",
       "    <tr>\n",
       "      <th>2</th>\n",
       "      <td>IDADE</td>\n",
       "      <td>Idade do paciente no momento da notificação do...</td>\n",
       "    </tr>\n",
       "    <tr>\n",
       "      <th>3</th>\n",
       "      <td>SEXO</td>\n",
       "      <td>Sexo do Paciente</td>\n",
       "    </tr>\n",
       "    <tr>\n",
       "      <th>4</th>\n",
       "      <td>BAIRRO</td>\n",
       "      <td>Informa o Bairro de residência do paciente no ...</td>\n",
       "    </tr>\n",
       "    <tr>\n",
       "      <th>5</th>\n",
       "      <td>DISTRITO</td>\n",
       "      <td>Informa o Distrito Sanitário de residência do ...</td>\n",
       "    </tr>\n",
       "    <tr>\n",
       "      <th>6</th>\n",
       "      <td>DATA DO ÓBITO</td>\n",
       "      <td>Data em que ocorreu o óbito</td>\n",
       "    </tr>\n",
       "    <tr>\n",
       "      <th>7</th>\n",
       "      <td>ENCERRAMENTO</td>\n",
       "      <td>Informa a conclusão final do caso de COVID se ...</td>\n",
       "    </tr>\n",
       "  </tbody>\n",
       "</table>\n",
       "</div>"
      ],
      "text/plain": [
       "   Nome do Campo                                          Descrição\n",
       "0  DATA INCLUSÃO  Data em que caso de COVID foi incluído na base...\n",
       "1  CLASSIFICAÇÃO          Informa se o caso do COVID foi confirmado\n",
       "2          IDADE  Idade do paciente no momento da notificação do...\n",
       "3           SEXO                                   Sexo do Paciente\n",
       "4         BAIRRO  Informa o Bairro de residência do paciente no ...\n",
       "5       DISTRITO  Informa o Distrito Sanitário de residência do ...\n",
       "6  DATA DO ÓBITO                        Data em que ocorreu o óbito\n",
       "7   ENCERRAMENTO  Informa a conclusão final do caso de COVID se ..."
      ]
     },
     "execution_count": 3,
     "metadata": {},
     "output_type": "execute_result"
    }
   ],
   "source": [
    "df_casos_dic = pd.read_csv('./data/casos/2022-02-01_Dicionario_de_Dados-Casos_de_COVID.csv', sep=';', encoding='latin-1')\n",
    "df_casos_dic"
   ]
  },
  {
   "cell_type": "markdown",
   "id": "58059bc6",
   "metadata": {},
   "source": [
    "### Base de dados de casos de COVID-19"
   ]
  },
  {
   "cell_type": "code",
   "execution_count": 4,
   "id": "b0539c2f",
   "metadata": {},
   "outputs": [
    {
     "data": {
      "text/html": [
       "<div>\n",
       "<style scoped>\n",
       "    .dataframe tbody tr th:only-of-type {\n",
       "        vertical-align: middle;\n",
       "    }\n",
       "\n",
       "    .dataframe tbody tr th {\n",
       "        vertical-align: top;\n",
       "    }\n",
       "\n",
       "    .dataframe thead th {\n",
       "        text-align: right;\n",
       "    }\n",
       "</style>\n",
       "<table border=\"1\" class=\"dataframe\">\n",
       "  <thead>\n",
       "    <tr style=\"text-align: right;\">\n",
       "      <th></th>\n",
       "      <th>DATA INCLUSÃO/ NOTIFICAÇÃO</th>\n",
       "      <th>CLASSIFICAÇÃO FINAL</th>\n",
       "      <th>IDADE (anos)</th>\n",
       "      <th>SEXO</th>\n",
       "      <th>BAIRRO</th>\n",
       "      <th>DISTRITO RESIDÊNCIA</th>\n",
       "      <th>INTERNADO (SIM/NÃO)</th>\n",
       "      <th>DATA COLETA EXAME</th>\n",
       "      <th>DATA ÓBITO</th>\n",
       "      <th>ENCERRAMENTO</th>\n",
       "    </tr>\n",
       "  </thead>\n",
       "  <tbody>\n",
       "    <tr>\n",
       "      <th>0</th>\n",
       "      <td>11/03/2020</td>\n",
       "      <td>CONFIRMADO</td>\n",
       "      <td>54</td>\n",
       "      <td>M</td>\n",
       "      <td>CRISTO REI</td>\n",
       "      <td>DSMZ</td>\n",
       "      <td>NÃO</td>\n",
       "      <td>09/03/2020</td>\n",
       "      <td>NaN</td>\n",
       "      <td>RECUPERADO</td>\n",
       "    </tr>\n",
       "    <tr>\n",
       "      <th>1</th>\n",
       "      <td>12/03/2020</td>\n",
       "      <td>CONFIRMADO</td>\n",
       "      <td>15</td>\n",
       "      <td>M</td>\n",
       "      <td>XAXIM</td>\n",
       "      <td>DSBQ</td>\n",
       "      <td>NÃO</td>\n",
       "      <td>08/03/2020</td>\n",
       "      <td>NaN</td>\n",
       "      <td>RECUPERADO</td>\n",
       "    </tr>\n",
       "    <tr>\n",
       "      <th>2</th>\n",
       "      <td>12/03/2020</td>\n",
       "      <td>CONFIRMADO</td>\n",
       "      <td>43</td>\n",
       "      <td>M</td>\n",
       "      <td>XAXIM</td>\n",
       "      <td>DSBQ</td>\n",
       "      <td>NÃO</td>\n",
       "      <td>09/03/2020</td>\n",
       "      <td>NaN</td>\n",
       "      <td>RECUPERADO</td>\n",
       "    </tr>\n",
       "    <tr>\n",
       "      <th>3</th>\n",
       "      <td>12/03/2020</td>\n",
       "      <td>CONFIRMADO</td>\n",
       "      <td>25</td>\n",
       "      <td>F</td>\n",
       "      <td>CRISTO REI</td>\n",
       "      <td>DSMZ</td>\n",
       "      <td>NÃO</td>\n",
       "      <td>09/03/2020</td>\n",
       "      <td>NaN</td>\n",
       "      <td>RECUPERADO</td>\n",
       "    </tr>\n",
       "    <tr>\n",
       "      <th>4</th>\n",
       "      <td>12/03/2020</td>\n",
       "      <td>CONFIRMADO</td>\n",
       "      <td>58</td>\n",
       "      <td>M</td>\n",
       "      <td>MERCÊS</td>\n",
       "      <td>DSMZ</td>\n",
       "      <td>NÃO</td>\n",
       "      <td>09/03/2020</td>\n",
       "      <td>NaN</td>\n",
       "      <td>RECUPERADO</td>\n",
       "    </tr>\n",
       "    <tr>\n",
       "      <th>...</th>\n",
       "      <td>...</td>\n",
       "      <td>...</td>\n",
       "      <td>...</td>\n",
       "      <td>...</td>\n",
       "      <td>...</td>\n",
       "      <td>...</td>\n",
       "      <td>...</td>\n",
       "      <td>...</td>\n",
       "      <td>...</td>\n",
       "      <td>...</td>\n",
       "    </tr>\n",
       "    <tr>\n",
       "      <th>587302</th>\n",
       "      <td>04/04/2023</td>\n",
       "      <td>CONFIRMADO</td>\n",
       "      <td>57</td>\n",
       "      <td>M</td>\n",
       "      <td>ALTO BOQUEIRÃO</td>\n",
       "      <td>DSBQ</td>\n",
       "      <td>NÃO</td>\n",
       "      <td>03/04/2023</td>\n",
       "      <td>NaN</td>\n",
       "      <td>ATIVO</td>\n",
       "    </tr>\n",
       "    <tr>\n",
       "      <th>587303</th>\n",
       "      <td>04/04/2023</td>\n",
       "      <td>CONFIRMADO</td>\n",
       "      <td>11</td>\n",
       "      <td>F</td>\n",
       "      <td>GUAÍRA</td>\n",
       "      <td>DSPR</td>\n",
       "      <td>NÃO</td>\n",
       "      <td>03/04/2023</td>\n",
       "      <td>NaN</td>\n",
       "      <td>ATIVO</td>\n",
       "    </tr>\n",
       "    <tr>\n",
       "      <th>587304</th>\n",
       "      <td>04/04/2023</td>\n",
       "      <td>CONFIRMADO</td>\n",
       "      <td>13</td>\n",
       "      <td>M</td>\n",
       "      <td>NOVO MUNDO</td>\n",
       "      <td>DSPN</td>\n",
       "      <td>NÃO</td>\n",
       "      <td>03/04/2023</td>\n",
       "      <td>NaN</td>\n",
       "      <td>ATIVO</td>\n",
       "    </tr>\n",
       "    <tr>\n",
       "      <th>587305</th>\n",
       "      <td>04/04/2023</td>\n",
       "      <td>CONFIRMADO</td>\n",
       "      <td>82</td>\n",
       "      <td>F</td>\n",
       "      <td>CENTRO</td>\n",
       "      <td>DSMZ</td>\n",
       "      <td>NÃO</td>\n",
       "      <td>03/04/2023</td>\n",
       "      <td>NaN</td>\n",
       "      <td>ATIVO</td>\n",
       "    </tr>\n",
       "    <tr>\n",
       "      <th>587306</th>\n",
       "      <td>04/04/2023</td>\n",
       "      <td>CONFIRMADO</td>\n",
       "      <td>65</td>\n",
       "      <td>F</td>\n",
       "      <td>UBERABA</td>\n",
       "      <td>DSCJ</td>\n",
       "      <td>NÃO</td>\n",
       "      <td>03/04/2023</td>\n",
       "      <td>NaN</td>\n",
       "      <td>ATIVO</td>\n",
       "    </tr>\n",
       "  </tbody>\n",
       "</table>\n",
       "<p>587307 rows × 10 columns</p>\n",
       "</div>"
      ],
      "text/plain": [
       "       DATA INCLUSÃO/ NOTIFICAÇÃO CLASSIFICAÇÃO FINAL  IDADE (anos) SEXO  \\\n",
       "0                      11/03/2020          CONFIRMADO            54    M   \n",
       "1                      12/03/2020          CONFIRMADO            15    M   \n",
       "2                      12/03/2020          CONFIRMADO            43    M   \n",
       "3                      12/03/2020          CONFIRMADO            25    F   \n",
       "4                      12/03/2020          CONFIRMADO            58    M   \n",
       "...                           ...                 ...           ...  ...   \n",
       "587302                 04/04/2023          CONFIRMADO            57    M   \n",
       "587303                 04/04/2023          CONFIRMADO            11    F   \n",
       "587304                 04/04/2023          CONFIRMADO            13    M   \n",
       "587305                 04/04/2023          CONFIRMADO            82    F   \n",
       "587306                 04/04/2023          CONFIRMADO            65    F   \n",
       "\n",
       "                BAIRRO DISTRITO RESIDÊNCIA INTERNADO (SIM/NÃO)  \\\n",
       "0           CRISTO REI                DSMZ                 NÃO   \n",
       "1                XAXIM                DSBQ                 NÃO   \n",
       "2                XAXIM                DSBQ                 NÃO   \n",
       "3           CRISTO REI                DSMZ                 NÃO   \n",
       "4               MERCÊS                DSMZ                 NÃO   \n",
       "...                ...                 ...                 ...   \n",
       "587302  ALTO BOQUEIRÃO                DSBQ                 NÃO   \n",
       "587303          GUAÍRA                DSPR                 NÃO   \n",
       "587304      NOVO MUNDO                DSPN                 NÃO   \n",
       "587305          CENTRO                DSMZ                 NÃO   \n",
       "587306         UBERABA                DSCJ                 NÃO   \n",
       "\n",
       "       DATA COLETA EXAME DATA ÓBITO ENCERRAMENTO  \n",
       "0             09/03/2020        NaN   RECUPERADO  \n",
       "1             08/03/2020        NaN   RECUPERADO  \n",
       "2             09/03/2020        NaN   RECUPERADO  \n",
       "3             09/03/2020        NaN   RECUPERADO  \n",
       "4             09/03/2020        NaN   RECUPERADO  \n",
       "...                  ...        ...          ...  \n",
       "587302        03/04/2023        NaN        ATIVO  \n",
       "587303        03/04/2023        NaN        ATIVO  \n",
       "587304        03/04/2023        NaN        ATIVO  \n",
       "587305        03/04/2023        NaN        ATIVO  \n",
       "587306        03/04/2023        NaN        ATIVO  \n",
       "\n",
       "[587307 rows x 10 columns]"
      ]
     },
     "execution_count": 4,
     "metadata": {},
     "output_type": "execute_result"
    }
   ],
   "source": [
    "df_casos_base = pd.read_csv('./data/casos/2023-04-05_Casos_Covid_19_-_Base_de_Dados.csv', sep=';', encoding='latin-1')\n",
    "df_casos_base"
   ]
  },
  {
   "cell_type": "code",
   "execution_count": 5,
   "id": "c1af479a",
   "metadata": {},
   "outputs": [
    {
     "name": "stdout",
     "output_type": "stream",
     "text": [
      "Número de casos:  587307\n"
     ]
    }
   ],
   "source": [
    "print(\"Número de casos: \", len(df_casos_base))"
   ]
  },
  {
   "cell_type": "code",
   "execution_count": 6,
   "id": "0a9a356b",
   "metadata": {},
   "outputs": [
    {
     "name": "stdout",
     "output_type": "stream",
     "text": [
      "<class 'pandas.core.frame.DataFrame'>\n",
      "RangeIndex: 587307 entries, 0 to 587306\n",
      "Data columns (total 10 columns):\n",
      " #   Column                      Non-Null Count   Dtype \n",
      "---  ------                      --------------   ----- \n",
      " 0   DATA INCLUSÃO/ NOTIFICAÇÃO  587307 non-null  object\n",
      " 1   CLASSIFICAÇÃO FINAL         587307 non-null  object\n",
      " 2   IDADE (anos)                587307 non-null  int64 \n",
      " 3   SEXO                        587307 non-null  object\n",
      " 4   BAIRRO                      577010 non-null  object\n",
      " 5   DISTRITO RESIDÊNCIA         577020 non-null  object\n",
      " 6   INTERNADO (SIM/NÃO)         587307 non-null  object\n",
      " 7   DATA COLETA EXAME           587307 non-null  object\n",
      " 8   DATA ÓBITO                  8712 non-null    object\n",
      " 9   ENCERRAMENTO                587307 non-null  object\n",
      "dtypes: int64(1), object(9)\n",
      "memory usage: 44.8+ MB\n"
     ]
    }
   ],
   "source": [
    "df_casos_base.info()"
   ]
  },
  {
   "cell_type": "code",
   "execution_count": 7,
   "id": "66e4317c",
   "metadata": {},
   "outputs": [
    {
     "data": {
      "text/html": [
       "<div>\n",
       "<style scoped>\n",
       "    .dataframe tbody tr th:only-of-type {\n",
       "        vertical-align: middle;\n",
       "    }\n",
       "\n",
       "    .dataframe tbody tr th {\n",
       "        vertical-align: top;\n",
       "    }\n",
       "\n",
       "    .dataframe thead th {\n",
       "        text-align: right;\n",
       "    }\n",
       "</style>\n",
       "<table border=\"1\" class=\"dataframe\">\n",
       "  <thead>\n",
       "    <tr style=\"text-align: right;\">\n",
       "      <th></th>\n",
       "      <th>IDADE (anos)</th>\n",
       "    </tr>\n",
       "  </thead>\n",
       "  <tbody>\n",
       "    <tr>\n",
       "      <th>count</th>\n",
       "      <td>587307.000000</td>\n",
       "    </tr>\n",
       "    <tr>\n",
       "      <th>mean</th>\n",
       "      <td>39.701167</td>\n",
       "    </tr>\n",
       "    <tr>\n",
       "      <th>std</th>\n",
       "      <td>18.226986</td>\n",
       "    </tr>\n",
       "    <tr>\n",
       "      <th>min</th>\n",
       "      <td>0.000000</td>\n",
       "    </tr>\n",
       "    <tr>\n",
       "      <th>25%</th>\n",
       "      <td>26.000000</td>\n",
       "    </tr>\n",
       "    <tr>\n",
       "      <th>50%</th>\n",
       "      <td>39.000000</td>\n",
       "    </tr>\n",
       "    <tr>\n",
       "      <th>75%</th>\n",
       "      <td>52.000000</td>\n",
       "    </tr>\n",
       "    <tr>\n",
       "      <th>max</th>\n",
       "      <td>107.000000</td>\n",
       "    </tr>\n",
       "  </tbody>\n",
       "</table>\n",
       "</div>"
      ],
      "text/plain": [
       "        IDADE (anos)\n",
       "count  587307.000000\n",
       "mean       39.701167\n",
       "std        18.226986\n",
       "min         0.000000\n",
       "25%        26.000000\n",
       "50%        39.000000\n",
       "75%        52.000000\n",
       "max       107.000000"
      ]
     },
     "execution_count": 7,
     "metadata": {},
     "output_type": "execute_result"
    }
   ],
   "source": [
    "df_casos_base.describe()"
   ]
  },
  {
   "cell_type": "markdown",
   "id": "1d8b6d07",
   "metadata": {},
   "source": [
    "### Número de casos por bairro"
   ]
  },
  {
   "cell_type": "code",
   "execution_count": 8,
   "id": "a8889c37",
   "metadata": {},
   "outputs": [
    {
     "data": {
      "text/plain": [
       "CIDADE INDUSTRIAL DE CURITIBA    57678\n",
       "SÍTIO CERCADO                    36381\n",
       "CAJURU                           29765\n",
       "UBERABA                          23477\n",
       "BOQUEIRÃO                        23314\n",
       "                                 ...  \n",
       "TABOÃO                             846\n",
       "CASCATINHA                         813\n",
       "SÃO MIGUEL                         747\n",
       "LAMENHA PEQUENA                    221\n",
       "RIVIERA                             87\n",
       "Name: BAIRRO, Length: 75, dtype: int64"
      ]
     },
     "execution_count": 8,
     "metadata": {},
     "output_type": "execute_result"
    }
   ],
   "source": [
    "df_bairros = df_casos_base['BAIRRO'].value_counts()\n",
    "df_bairros"
   ]
  },
  {
   "cell_type": "code",
   "execution_count": 9,
   "id": "9ce85b59",
   "metadata": {},
   "outputs": [
    {
     "name": "stdout",
     "output_type": "stream",
     "text": [
      "Número de bairros:  75\n"
     ]
    }
   ],
   "source": [
    "print(\"Número de bairros: \", len(df_bairros))"
   ]
  },
  {
   "cell_type": "code",
   "execution_count": 12,
   "id": "05f28475",
   "metadata": {},
   "outputs": [
    {
     "data": {
      "text/html": [
       "<div>\n",
       "<style scoped>\n",
       "    .dataframe tbody tr th:only-of-type {\n",
       "        vertical-align: middle;\n",
       "    }\n",
       "\n",
       "    .dataframe tbody tr th {\n",
       "        vertical-align: top;\n",
       "    }\n",
       "\n",
       "    .dataframe thead th {\n",
       "        text-align: right;\n",
       "    }\n",
       "</style>\n",
       "<table border=\"1\" class=\"dataframe\">\n",
       "  <thead>\n",
       "    <tr style=\"text-align: right;\">\n",
       "      <th></th>\n",
       "      <th>DATA INCLUSÃO/ NOTIFICAÇÃO</th>\n",
       "      <th>CLASSIFICAÇÃO FINAL</th>\n",
       "      <th>IDADE (anos)</th>\n",
       "      <th>SEXO</th>\n",
       "      <th>BAIRRO</th>\n",
       "      <th>DISTRITO RESIDÊNCIA</th>\n",
       "      <th>INTERNADO (SIM/NÃO)</th>\n",
       "      <th>DATA COLETA EXAME</th>\n",
       "      <th>DATA ÓBITO</th>\n",
       "      <th>ENCERRAMENTO</th>\n",
       "    </tr>\n",
       "  </thead>\n",
       "  <tbody>\n",
       "    <tr>\n",
       "      <th>0</th>\n",
       "      <td>2020-11-03</td>\n",
       "      <td>CONFIRMADO</td>\n",
       "      <td>54</td>\n",
       "      <td>M</td>\n",
       "      <td>CRISTO REI</td>\n",
       "      <td>DSMZ</td>\n",
       "      <td>NÃO</td>\n",
       "      <td>09/03/2020</td>\n",
       "      <td>NaN</td>\n",
       "      <td>RECUPERADO</td>\n",
       "    </tr>\n",
       "    <tr>\n",
       "      <th>1</th>\n",
       "      <td>2020-12-03</td>\n",
       "      <td>CONFIRMADO</td>\n",
       "      <td>15</td>\n",
       "      <td>M</td>\n",
       "      <td>XAXIM</td>\n",
       "      <td>DSBQ</td>\n",
       "      <td>NÃO</td>\n",
       "      <td>08/03/2020</td>\n",
       "      <td>NaN</td>\n",
       "      <td>RECUPERADO</td>\n",
       "    </tr>\n",
       "    <tr>\n",
       "      <th>2</th>\n",
       "      <td>2020-12-03</td>\n",
       "      <td>CONFIRMADO</td>\n",
       "      <td>43</td>\n",
       "      <td>M</td>\n",
       "      <td>XAXIM</td>\n",
       "      <td>DSBQ</td>\n",
       "      <td>NÃO</td>\n",
       "      <td>09/03/2020</td>\n",
       "      <td>NaN</td>\n",
       "      <td>RECUPERADO</td>\n",
       "    </tr>\n",
       "    <tr>\n",
       "      <th>3</th>\n",
       "      <td>2020-12-03</td>\n",
       "      <td>CONFIRMADO</td>\n",
       "      <td>25</td>\n",
       "      <td>F</td>\n",
       "      <td>CRISTO REI</td>\n",
       "      <td>DSMZ</td>\n",
       "      <td>NÃO</td>\n",
       "      <td>09/03/2020</td>\n",
       "      <td>NaN</td>\n",
       "      <td>RECUPERADO</td>\n",
       "    </tr>\n",
       "    <tr>\n",
       "      <th>4</th>\n",
       "      <td>2020-12-03</td>\n",
       "      <td>CONFIRMADO</td>\n",
       "      <td>58</td>\n",
       "      <td>M</td>\n",
       "      <td>MERCÊS</td>\n",
       "      <td>DSMZ</td>\n",
       "      <td>NÃO</td>\n",
       "      <td>09/03/2020</td>\n",
       "      <td>NaN</td>\n",
       "      <td>RECUPERADO</td>\n",
       "    </tr>\n",
       "    <tr>\n",
       "      <th>...</th>\n",
       "      <td>...</td>\n",
       "      <td>...</td>\n",
       "      <td>...</td>\n",
       "      <td>...</td>\n",
       "      <td>...</td>\n",
       "      <td>...</td>\n",
       "      <td>...</td>\n",
       "      <td>...</td>\n",
       "      <td>...</td>\n",
       "      <td>...</td>\n",
       "    </tr>\n",
       "    <tr>\n",
       "      <th>587302</th>\n",
       "      <td>2023-04-04</td>\n",
       "      <td>CONFIRMADO</td>\n",
       "      <td>57</td>\n",
       "      <td>M</td>\n",
       "      <td>ALTO BOQUEIRÃO</td>\n",
       "      <td>DSBQ</td>\n",
       "      <td>NÃO</td>\n",
       "      <td>03/04/2023</td>\n",
       "      <td>NaN</td>\n",
       "      <td>ATIVO</td>\n",
       "    </tr>\n",
       "    <tr>\n",
       "      <th>587303</th>\n",
       "      <td>2023-04-04</td>\n",
       "      <td>CONFIRMADO</td>\n",
       "      <td>11</td>\n",
       "      <td>F</td>\n",
       "      <td>GUAÍRA</td>\n",
       "      <td>DSPR</td>\n",
       "      <td>NÃO</td>\n",
       "      <td>03/04/2023</td>\n",
       "      <td>NaN</td>\n",
       "      <td>ATIVO</td>\n",
       "    </tr>\n",
       "    <tr>\n",
       "      <th>587304</th>\n",
       "      <td>2023-04-04</td>\n",
       "      <td>CONFIRMADO</td>\n",
       "      <td>13</td>\n",
       "      <td>M</td>\n",
       "      <td>NOVO MUNDO</td>\n",
       "      <td>DSPN</td>\n",
       "      <td>NÃO</td>\n",
       "      <td>03/04/2023</td>\n",
       "      <td>NaN</td>\n",
       "      <td>ATIVO</td>\n",
       "    </tr>\n",
       "    <tr>\n",
       "      <th>587305</th>\n",
       "      <td>2023-04-04</td>\n",
       "      <td>CONFIRMADO</td>\n",
       "      <td>82</td>\n",
       "      <td>F</td>\n",
       "      <td>CENTRO</td>\n",
       "      <td>DSMZ</td>\n",
       "      <td>NÃO</td>\n",
       "      <td>03/04/2023</td>\n",
       "      <td>NaN</td>\n",
       "      <td>ATIVO</td>\n",
       "    </tr>\n",
       "    <tr>\n",
       "      <th>587306</th>\n",
       "      <td>2023-04-04</td>\n",
       "      <td>CONFIRMADO</td>\n",
       "      <td>65</td>\n",
       "      <td>F</td>\n",
       "      <td>UBERABA</td>\n",
       "      <td>DSCJ</td>\n",
       "      <td>NÃO</td>\n",
       "      <td>03/04/2023</td>\n",
       "      <td>NaN</td>\n",
       "      <td>ATIVO</td>\n",
       "    </tr>\n",
       "  </tbody>\n",
       "</table>\n",
       "<p>587307 rows × 10 columns</p>\n",
       "</div>"
      ],
      "text/plain": [
       "       DATA INCLUSÃO/ NOTIFICAÇÃO CLASSIFICAÇÃO FINAL  IDADE (anos) SEXO  \\\n",
       "0                      2020-11-03          CONFIRMADO            54    M   \n",
       "1                      2020-12-03          CONFIRMADO            15    M   \n",
       "2                      2020-12-03          CONFIRMADO            43    M   \n",
       "3                      2020-12-03          CONFIRMADO            25    F   \n",
       "4                      2020-12-03          CONFIRMADO            58    M   \n",
       "...                           ...                 ...           ...  ...   \n",
       "587302                 2023-04-04          CONFIRMADO            57    M   \n",
       "587303                 2023-04-04          CONFIRMADO            11    F   \n",
       "587304                 2023-04-04          CONFIRMADO            13    M   \n",
       "587305                 2023-04-04          CONFIRMADO            82    F   \n",
       "587306                 2023-04-04          CONFIRMADO            65    F   \n",
       "\n",
       "                BAIRRO DISTRITO RESIDÊNCIA INTERNADO (SIM/NÃO)  \\\n",
       "0           CRISTO REI                DSMZ                 NÃO   \n",
       "1                XAXIM                DSBQ                 NÃO   \n",
       "2                XAXIM                DSBQ                 NÃO   \n",
       "3           CRISTO REI                DSMZ                 NÃO   \n",
       "4               MERCÊS                DSMZ                 NÃO   \n",
       "...                ...                 ...                 ...   \n",
       "587302  ALTO BOQUEIRÃO                DSBQ                 NÃO   \n",
       "587303          GUAÍRA                DSPR                 NÃO   \n",
       "587304      NOVO MUNDO                DSPN                 NÃO   \n",
       "587305          CENTRO                DSMZ                 NÃO   \n",
       "587306         UBERABA                DSCJ                 NÃO   \n",
       "\n",
       "       DATA COLETA EXAME DATA ÓBITO ENCERRAMENTO  \n",
       "0             09/03/2020        NaN   RECUPERADO  \n",
       "1             08/03/2020        NaN   RECUPERADO  \n",
       "2             09/03/2020        NaN   RECUPERADO  \n",
       "3             09/03/2020        NaN   RECUPERADO  \n",
       "4             09/03/2020        NaN   RECUPERADO  \n",
       "...                  ...        ...          ...  \n",
       "587302        03/04/2023        NaN        ATIVO  \n",
       "587303        03/04/2023        NaN        ATIVO  \n",
       "587304        03/04/2023        NaN        ATIVO  \n",
       "587305        03/04/2023        NaN        ATIVO  \n",
       "587306        03/04/2023        NaN        ATIVO  \n",
       "\n",
       "[587307 rows x 10 columns]"
      ]
     },
     "execution_count": 12,
     "metadata": {},
     "output_type": "execute_result"
    }
   ],
   "source": [
    "df_casos_base['DATA INCLUSÃO/ NOTIFICAÇÃO'] = pd.to_datetime(df_casos_base['DATA INCLUSÃO/ NOTIFICAÇÃO'])\n",
    "df_casos_base"
   ]
  },
  {
   "cell_type": "markdown",
   "id": "a84c25ea",
   "metadata": {},
   "source": [
    "### Número de casos sexo masculino"
   ]
  },
  {
   "cell_type": "code",
   "execution_count": 20,
   "id": "50540349",
   "metadata": {},
   "outputs": [
    {
     "data": {
      "text/plain": [
       "<AxesSubplot:>"
      ]
     },
     "execution_count": 20,
     "metadata": {},
     "output_type": "execute_result"
    },
    {
     "data": {
      "image/png": "[encoded data removed]",
      "text/plain": [
       "<Figure size 640x480 with 1 Axes>"
      ]
     },
     "metadata": {},
     "output_type": "display_data"
    }
   ],
   "source": [
    "selec_masc = df_casos_base['SEXO'] == \"M\"\n",
    "df_masc = df_casos_base[selec_masc]\n",
    "df_masc['IDADE (anos)'].hist(bins=7)"
   ]
  },
  {
   "cell_type": "markdown",
   "id": "3d88ba47",
   "metadata": {},
   "source": [
    "### Número de casos sexo feminino"
   ]
  },
  {
   "cell_type": "code",
   "execution_count": 21,
   "id": "d332de07",
   "metadata": {},
   "outputs": [
    {
     "data": {
      "text/plain": [
       "<AxesSubplot:>"
      ]
     },
     "execution_count": 21,
     "metadata": {},
     "output_type": "execute_result"
    },
    {
     "data": {
      "image/png": "[encoded data removed]",
      "text/plain": [
       "<Figure size 640x480 with 1 Axes>"
      ]
     },
     "metadata": {},
     "output_type": "display_data"
    }
   ],
   "source": [
    "selec_fem = df_casos_base['SEXO'] == \"F\"\n",
    "df_fem = df_casos_base[selec_fem]\n",
    "df_fem['IDADE (anos)'].hist(bins=7)"
   ]
  },
  {
   "cell_type": "markdown",
   "id": "68076539",
   "metadata": {},
   "source": [
    "### Casos COVID-19 de acordo com a idade"
   ]
  },
  {
   "cell_type": "code",
   "execution_count": 22,
   "id": "da963af3",
   "metadata": {},
   "outputs": [
    {
     "data": {
      "text/plain": [
       "<AxesSubplot:ylabel='Density'>"
      ]
     },
     "execution_count": 22,
     "metadata": {},
     "output_type": "execute_result"
    },
    {
     "data": {
      "image/png": "[encoded data removed]",
      "text/plain": [
       "<Figure size 640x480 with 1 Axes>"
      ]
     },
     "metadata": {},
     "output_type": "display_data"
    }
   ],
   "source": [
    "df_casos_base['IDADE (anos)'].plot.kde()"
   ]
  },
  {
   "cell_type": "markdown",
   "id": "88a61640",
   "metadata": {},
   "source": [
    "### Número de casos de COVID-19 por ano"
   ]
  },
  {
   "cell_type": "code",
   "execution_count": 13,
   "id": "7e540677",
   "metadata": {},
   "outputs": [
    {
     "data": {
      "text/plain": [
       "ANO\n",
       "2020    108653\n",
       "2021    191371\n",
       "2022    275921\n",
       "2023     11362\n",
       "Name: DATA INCLUSÃO/ NOTIFICAÇÃO, dtype: int64"
      ]
     },
     "execution_count": 13,
     "metadata": {},
     "output_type": "execute_result"
    }
   ],
   "source": [
    "df_casos_ano = df_casos_base['DATA INCLUSÃO/ NOTIFICAÇÃO'].groupby(df_casos_base['DATA INCLUSÃO/ NOTIFICAÇÃO'].dt.year.rename('ANO')).agg('count')\n",
    "df_casos_ano"
   ]
  },
  {
   "cell_type": "code",
   "execution_count": 51,
   "id": "d0c4c97a",
   "metadata": {},
   "outputs": [
    {
     "data": {
      "text/plain": [
       "<AxesSubplot:xlabel='ANO'>"
      ]
     },
     "execution_count": 51,
     "metadata": {},
     "output_type": "execute_result"
    },
    {
     "data": {
      "image/png": "[encoded data removed]",
      "text/plain": [
       "<Figure size 640x480 with 1 Axes>"
      ]
     },
     "metadata": {},
     "output_type": "display_data"
    }
   ],
   "source": [
    "df_casos_ano.plot.bar(y='ANO')"
   ]
  },
  {
   "cell_type": "code",
   "execution_count": 28,
   "id": "ab256a6d",
   "metadata": {},
   "outputs": [
    {
     "data": {
      "text/plain": [
       "<AxesSubplot:ylabel='DATA INCLUSÃO/ NOTIFICAÇÃO'>"
      ]
     },
     "execution_count": 28,
     "metadata": {},
     "output_type": "execute_result"
    },
    {
     "data": {
      "image/png": "[encoded data removed]",
      "text/plain": [
       "<Figure size 640x480 with 1 Axes>"
      ]
     },
     "metadata": {},
     "output_type": "display_data"
    }
   ],
   "source": [
    "df_casos_ano.plot.pie()"
   ]
  },
  {
   "cell_type": "markdown",
   "id": "012c0051",
   "metadata": {},
   "source": [
    "### Número de casos COVID-19 por mês"
   ]
  },
  {
   "cell_type": "code",
   "execution_count": 35,
   "id": "f7c58a67",
   "metadata": {},
   "outputs": [
    {
     "data": {
      "text/plain": [
       "ANO   MÊS\n",
       "2020  1       2354\n",
       "      2       3072\n",
       "      3       4659\n",
       "      4       3300\n",
       "      5       3672\n",
       "      6       8028\n",
       "      7      13601\n",
       "      8       9365\n",
       "      9       9130\n",
       "      10     10265\n",
       "      11     23628\n",
       "      12     17579\n",
       "2021  1      16345\n",
       "      2      15897\n",
       "      3      24903\n",
       "      4      15877\n",
       "      5      24217\n",
       "      6      18584\n",
       "      7      16474\n",
       "      8      22462\n",
       "      9      12903\n",
       "      10      8018\n",
       "      11      7287\n",
       "      12      8404\n",
       "2022  1      67186\n",
       "      2      27110\n",
       "      3      10002\n",
       "      4      10973\n",
       "      5      33685\n",
       "      6      27775\n",
       "      7      18305\n",
       "      8      12207\n",
       "      9       7066\n",
       "      10     10695\n",
       "      11     26418\n",
       "      12     24499\n",
       "2023  1       1660\n",
       "      2       2146\n",
       "      3       4072\n",
       "      4        573\n",
       "      5        290\n",
       "      6        686\n",
       "      7        290\n",
       "      8        212\n",
       "      9        571\n",
       "      10       465\n",
       "      11       208\n",
       "      12       189\n",
       "Name: DATA INCLUSÃO/ NOTIFICAÇÃO, dtype: int64"
      ]
     },
     "execution_count": 35,
     "metadata": {},
     "output_type": "execute_result"
    }
   ],
   "source": [
    "df_casos_mes = df_casos_base['DATA INCLUSÃO/ NOTIFICAÇÃO'].groupby([df_casos_base['DATA INCLUSÃO/ NOTIFICAÇÃO'].dt.year.rename('ANO'), df_casos_base['DATA INCLUSÃO/ NOTIFICAÇÃO'].dt.month.rename('MÊS')]).agg('count')\n",
    "df_casos_mes"
   ]
  },
  {
   "cell_type": "markdown",
   "id": "c10554cc",
   "metadata": {},
   "source": [
    "### Número de casos COVID-19 por mês em cada bairro"
   ]
  },
  {
   "cell_type": "code",
   "execution_count": 24,
   "id": "26e80762",
   "metadata": {},
   "outputs": [
    {
     "data": {
      "text/plain": [
       "ANO   MÊS  BAIRRO        \n",
       "2020  1    ABRANCHES         10\n",
       "           AHÚ               21\n",
       "           ALTO BOQUEIRÃO    55\n",
       "           ALTO DA GLÓRIA    10\n",
       "           ALTO DA RUA XV    22\n",
       "                             ..\n",
       "2023  12   UBERABA           10\n",
       "           UMBARÁ             1\n",
       "           VILA IZABEL        1\n",
       "           XAXIM              7\n",
       "           ÁGUA VERDE         3\n",
       "Name: DATA INCLUSÃO/ NOTIFICAÇÃO, Length: 3442, dtype: int64"
      ]
     },
     "execution_count": 24,
     "metadata": {},
     "output_type": "execute_result"
    }
   ],
   "source": [
    "df_casos_mes_bairro = df_casos_base['DATA INCLUSÃO/ NOTIFICAÇÃO'].groupby([df_casos_base['DATA INCLUSÃO/ NOTIFICAÇÃO'].dt.year.rename('ANO'), df_casos_base['DATA INCLUSÃO/ NOTIFICAÇÃO'].dt.month.rename('MÊS'), df_casos_base['BAIRRO']]).agg('count')\n",
    "df_casos_mes_bairro"
   ]
  },
  {
   "cell_type": "code",
   "execution_count": 30,
   "id": "a125ca1e",
   "metadata": {},
   "outputs": [
    {
     "data": {
      "text/plain": [
       "<AxesSubplot:xlabel='DATA INCLUSÃO/ NOTIFICAÇÃO'>"
      ]
     },
     "execution_count": 30,
     "metadata": {},
     "output_type": "execute_result"
    },
    {
     "data": {
      "image/png": "[encoded data removed]",
      "text/plain": [
       "<Figure size 640x480 with 1 Axes>"
      ]
     },
     "metadata": {},
     "output_type": "display_data"
    }
   ],
   "source": [
    "periodo = df_casos_base['DATA INCLUSÃO/ NOTIFICAÇÃO'].dt.to_period(\"M\")\n",
    "df_casos_base.groupby(periodo)['BAIRRO'].count().plot()"
   ]
  },
  {
   "cell_type": "code",
   "execution_count": null,
   "id": "844b28ff",
   "metadata": {},
   "outputs": [],
   "source": []
  }
 ],
 "metadata": {
  "kernelspec": {
   "display_name": "Python 3 (ipykernel)",
   "language": "python",
   "name": "python3"
  },
  "language_info": {
   "codemirror_mode": {
    "name": "ipython",
    "version": 3
   },
   "file_extension": ".py",
   "mimetype": "text/x-python",
   "name": "python",
   "nbconvert_exporter": "python",
   "pygments_lexer": "ipython3",
   "version": "3.9.13"
  }
 },
 "nbformat": 4,
 "nbformat_minor": 5
}
