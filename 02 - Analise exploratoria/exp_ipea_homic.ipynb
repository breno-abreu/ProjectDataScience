{
 "cells": [
  {
   "cell_type": "code",
   "execution_count": 2,
   "id": "8c9cd033",
   "metadata": {},
   "outputs": [
    {
     "data": {
      "text/html": [
       "<div>\n",
       "<style scoped>\n",
       "    .dataframe tbody tr th:only-of-type {\n",
       "        vertical-align: middle;\n",
       "    }\n",
       "\n",
       "    .dataframe tbody tr th {\n",
       "        vertical-align: top;\n",
       "    }\n",
       "\n",
       "    .dataframe thead th {\n",
       "        text-align: right;\n",
       "    }\n",
       "</style>\n",
       "<table border=\"1\" class=\"dataframe\">\n",
       "  <thead>\n",
       "    <tr style=\"text-align: right;\">\n",
       "      <th></th>\n",
       "      <th>cod</th>\n",
       "      <th>nome</th>\n",
       "      <th>período</th>\n",
       "      <th>valor</th>\n",
       "    </tr>\n",
       "  </thead>\n",
       "  <tbody>\n",
       "    <tr>\n",
       "      <th>0</th>\n",
       "      <td>4104808</td>\n",
       "      <td>Cascavel</td>\n",
       "      <td>2000</td>\n",
       "      <td>79</td>\n",
       "    </tr>\n",
       "    <tr>\n",
       "      <th>1</th>\n",
       "      <td>4104709</td>\n",
       "      <td>Carlópolis</td>\n",
       "      <td>2000</td>\n",
       "      <td>3</td>\n",
       "    </tr>\n",
       "    <tr>\n",
       "      <th>2</th>\n",
       "      <td>4104659</td>\n",
       "      <td>Carambeí</td>\n",
       "      <td>2000</td>\n",
       "      <td>1</td>\n",
       "    </tr>\n",
       "    <tr>\n",
       "      <th>3</th>\n",
       "      <td>4104600</td>\n",
       "      <td>Capitão Leônidas Marques</td>\n",
       "      <td>2000</td>\n",
       "      <td>0</td>\n",
       "    </tr>\n",
       "    <tr>\n",
       "      <th>4</th>\n",
       "      <td>4104501</td>\n",
       "      <td>Capanema</td>\n",
       "      <td>2000</td>\n",
       "      <td>0</td>\n",
       "    </tr>\n",
       "    <tr>\n",
       "      <th>5</th>\n",
       "      <td>4104451</td>\n",
       "      <td>Cantagalo</td>\n",
       "      <td>2000</td>\n",
       "      <td>5</td>\n",
       "    </tr>\n",
       "    <tr>\n",
       "      <th>6</th>\n",
       "      <td>4104428</td>\n",
       "      <td>Candói</td>\n",
       "      <td>2000</td>\n",
       "      <td>2</td>\n",
       "    </tr>\n",
       "    <tr>\n",
       "      <th>7</th>\n",
       "      <td>4104402</td>\n",
       "      <td>Cândido de Abreu</td>\n",
       "      <td>2000</td>\n",
       "      <td>0</td>\n",
       "    </tr>\n",
       "    <tr>\n",
       "      <th>8</th>\n",
       "      <td>4104303</td>\n",
       "      <td>Campo Mourão</td>\n",
       "      <td>2000</td>\n",
       "      <td>11</td>\n",
       "    </tr>\n",
       "    <tr>\n",
       "      <th>9</th>\n",
       "      <td>4104253</td>\n",
       "      <td>Campo Magro</td>\n",
       "      <td>2000</td>\n",
       "      <td>5</td>\n",
       "    </tr>\n",
       "  </tbody>\n",
       "</table>\n",
       "</div>"
      ],
      "text/plain": [
       "       cod                      nome  período  valor\n",
       "0  4104808                  Cascavel     2000     79\n",
       "1  4104709                Carlópolis     2000      3\n",
       "2  4104659                  Carambeí     2000      1\n",
       "3  4104600  Capitão Leônidas Marques     2000      0\n",
       "4  4104501                  Capanema     2000      0\n",
       "5  4104451                 Cantagalo     2000      5\n",
       "6  4104428                    Candói     2000      2\n",
       "7  4104402          Cândido de Abreu     2000      0\n",
       "8  4104303              Campo Mourão     2000     11\n",
       "9  4104253               Campo Magro     2000      5"
      ]
     },
     "execution_count": 2,
     "metadata": {},
     "output_type": "execute_result"
    }
   ],
   "source": [
    "import pandas as pd\n",
    "import matplotlib.pyplot as plt\n",
    "%matplotlib inline\n",
    "\n",
    "# Exporting cvs file for the IPEA Atlas da Violência dataset\n",
    "# This is the dataset for homicides by city only \n",
    "df = pd.read_csv('./Datasets/homicidios.csv', sep=';')\n",
    "df.head(10)"
   ]
  },
  {
   "cell_type": "code",
   "execution_count": 73,
   "id": "c5916c27",
   "metadata": {},
   "outputs": [
    {
     "data": {
      "text/html": [
       "<div>\n",
       "<style scoped>\n",
       "    .dataframe tbody tr th:only-of-type {\n",
       "        vertical-align: middle;\n",
       "    }\n",
       "\n",
       "    .dataframe tbody tr th {\n",
       "        vertical-align: top;\n",
       "    }\n",
       "\n",
       "    .dataframe thead th {\n",
       "        text-align: right;\n",
       "    }\n",
       "</style>\n",
       "<table border=\"1\" class=\"dataframe\">\n",
       "  <thead>\n",
       "    <tr style=\"text-align: right;\">\n",
       "      <th></th>\n",
       "      <th>cod</th>\n",
       "      <th>nome</th>\n",
       "      <th>período</th>\n",
       "      <th>valor</th>\n",
       "    </tr>\n",
       "  </thead>\n",
       "  <tbody>\n",
       "    <tr>\n",
       "      <th>5126</th>\n",
       "      <td>4106902</td>\n",
       "      <td>Curitiba</td>\n",
       "      <td>2000</td>\n",
       "      <td>336</td>\n",
       "    </tr>\n",
       "    <tr>\n",
       "      <th>9457</th>\n",
       "      <td>4106902</td>\n",
       "      <td>Curitiba</td>\n",
       "      <td>2001</td>\n",
       "      <td>384</td>\n",
       "    </tr>\n",
       "    <tr>\n",
       "      <th>17661</th>\n",
       "      <td>4106902</td>\n",
       "      <td>Curitiba</td>\n",
       "      <td>2002</td>\n",
       "      <td>437</td>\n",
       "    </tr>\n",
       "    <tr>\n",
       "      <th>17662</th>\n",
       "      <td>4106902</td>\n",
       "      <td>Curitiba</td>\n",
       "      <td>2002</td>\n",
       "      <td>437</td>\n",
       "    </tr>\n",
       "    <tr>\n",
       "      <th>27866</th>\n",
       "      <td>4106902</td>\n",
       "      <td>Curitiba</td>\n",
       "      <td>2003</td>\n",
       "      <td>479</td>\n",
       "    </tr>\n",
       "    <tr>\n",
       "      <th>27867</th>\n",
       "      <td>4106902</td>\n",
       "      <td>Curitiba</td>\n",
       "      <td>2003</td>\n",
       "      <td>479</td>\n",
       "    </tr>\n",
       "    <tr>\n",
       "      <th>38885</th>\n",
       "      <td>4106902</td>\n",
       "      <td>Curitiba</td>\n",
       "      <td>2004</td>\n",
       "      <td>591</td>\n",
       "    </tr>\n",
       "    <tr>\n",
       "      <th>38887</th>\n",
       "      <td>4106902</td>\n",
       "      <td>Curitiba</td>\n",
       "      <td>2004</td>\n",
       "      <td>591</td>\n",
       "    </tr>\n",
       "    <tr>\n",
       "      <th>49440</th>\n",
       "      <td>4106902</td>\n",
       "      <td>Curitiba</td>\n",
       "      <td>2005</td>\n",
       "      <td>661</td>\n",
       "    </tr>\n",
       "    <tr>\n",
       "      <th>49441</th>\n",
       "      <td>4106902</td>\n",
       "      <td>Curitiba</td>\n",
       "      <td>2005</td>\n",
       "      <td>661</td>\n",
       "    </tr>\n",
       "  </tbody>\n",
       "</table>\n",
       "</div>"
      ],
      "text/plain": [
       "           cod      nome  período  valor\n",
       "5126   4106902  Curitiba     2000    336\n",
       "9457   4106902  Curitiba     2001    384\n",
       "17661  4106902  Curitiba     2002    437\n",
       "17662  4106902  Curitiba     2002    437\n",
       "27866  4106902  Curitiba     2003    479\n",
       "27867  4106902  Curitiba     2003    479\n",
       "38885  4106902  Curitiba     2004    591\n",
       "38887  4106902  Curitiba     2004    591\n",
       "49440  4106902  Curitiba     2005    661\n",
       "49441  4106902  Curitiba     2005    661"
      ]
     },
     "execution_count": 73,
     "metadata": {},
     "output_type": "execute_result"
    }
   ],
   "source": [
    "# Filters the dataframe by only the ones from Curitiba\n",
    "df_cwb = df.query('nome == \"Curitiba\"')\n",
    "df_cwb.head(10)"
   ]
  },
  {
   "cell_type": "code",
   "execution_count": 74,
   "id": "f2884346",
   "metadata": {},
   "outputs": [
    {
     "data": {
      "text/plain": [
       "34"
      ]
     },
     "execution_count": 74,
     "metadata": {},
     "output_type": "execute_result"
    }
   ],
   "source": [
    "# Gets the total number of rows of the dataframe\n",
    "n_rows = df_cwb.shape[0]\n",
    "n_rows"
   ]
  },
  {
   "cell_type": "code",
   "execution_count": 75,
   "id": "92aade13",
   "metadata": {},
   "outputs": [
    {
     "data": {
      "text/plain": [
       "True"
      ]
     },
     "execution_count": 75,
     "metadata": {},
     "output_type": "execute_result"
    }
   ],
   "source": [
    "# Checks if there are duplicates in the dataframe\n",
    "duplicates = df_cwb.duplicated()\n",
    "has_duplicates = duplicates.any()\n",
    "has_duplicates"
   ]
  },
  {
   "cell_type": "code",
   "execution_count": 76,
   "id": "81594b9a",
   "metadata": {},
   "outputs": [
    {
     "data": {
      "text/html": [
       "<div>\n",
       "<style scoped>\n",
       "    .dataframe tbody tr th:only-of-type {\n",
       "        vertical-align: middle;\n",
       "    }\n",
       "\n",
       "    .dataframe tbody tr th {\n",
       "        vertical-align: top;\n",
       "    }\n",
       "\n",
       "    .dataframe thead th {\n",
       "        text-align: right;\n",
       "    }\n",
       "</style>\n",
       "<table border=\"1\" class=\"dataframe\">\n",
       "  <thead>\n",
       "    <tr style=\"text-align: right;\">\n",
       "      <th></th>\n",
       "      <th>cod</th>\n",
       "      <th>nome</th>\n",
       "      <th>período</th>\n",
       "      <th>valor</th>\n",
       "    </tr>\n",
       "  </thead>\n",
       "  <tbody>\n",
       "    <tr>\n",
       "      <th>5126</th>\n",
       "      <td>4106902</td>\n",
       "      <td>Curitiba</td>\n",
       "      <td>2000</td>\n",
       "      <td>336</td>\n",
       "    </tr>\n",
       "    <tr>\n",
       "      <th>9457</th>\n",
       "      <td>4106902</td>\n",
       "      <td>Curitiba</td>\n",
       "      <td>2001</td>\n",
       "      <td>384</td>\n",
       "    </tr>\n",
       "    <tr>\n",
       "      <th>17661</th>\n",
       "      <td>4106902</td>\n",
       "      <td>Curitiba</td>\n",
       "      <td>2002</td>\n",
       "      <td>437</td>\n",
       "    </tr>\n",
       "    <tr>\n",
       "      <th>27866</th>\n",
       "      <td>4106902</td>\n",
       "      <td>Curitiba</td>\n",
       "      <td>2003</td>\n",
       "      <td>479</td>\n",
       "    </tr>\n",
       "    <tr>\n",
       "      <th>38885</th>\n",
       "      <td>4106902</td>\n",
       "      <td>Curitiba</td>\n",
       "      <td>2004</td>\n",
       "      <td>591</td>\n",
       "    </tr>\n",
       "    <tr>\n",
       "      <th>49440</th>\n",
       "      <td>4106902</td>\n",
       "      <td>Curitiba</td>\n",
       "      <td>2005</td>\n",
       "      <td>661</td>\n",
       "    </tr>\n",
       "    <tr>\n",
       "      <th>64010</th>\n",
       "      <td>4106902</td>\n",
       "      <td>Curitiba</td>\n",
       "      <td>2006</td>\n",
       "      <td>715</td>\n",
       "    </tr>\n",
       "    <tr>\n",
       "      <th>76598</th>\n",
       "      <td>4106902</td>\n",
       "      <td>Curitiba</td>\n",
       "      <td>2007</td>\n",
       "      <td>688</td>\n",
       "    </tr>\n",
       "    <tr>\n",
       "      <th>82531</th>\n",
       "      <td>4106902</td>\n",
       "      <td>Curitiba</td>\n",
       "      <td>2008</td>\n",
       "      <td>771</td>\n",
       "    </tr>\n",
       "    <tr>\n",
       "      <th>102312</th>\n",
       "      <td>4106902</td>\n",
       "      <td>Curitiba</td>\n",
       "      <td>2009</td>\n",
       "      <td>778</td>\n",
       "    </tr>\n",
       "  </tbody>\n",
       "</table>\n",
       "</div>"
      ],
      "text/plain": [
       "            cod      nome  período  valor\n",
       "5126    4106902  Curitiba     2000    336\n",
       "9457    4106902  Curitiba     2001    384\n",
       "17661   4106902  Curitiba     2002    437\n",
       "27866   4106902  Curitiba     2003    479\n",
       "38885   4106902  Curitiba     2004    591\n",
       "49440   4106902  Curitiba     2005    661\n",
       "64010   4106902  Curitiba     2006    715\n",
       "76598   4106902  Curitiba     2007    688\n",
       "82531   4106902  Curitiba     2008    771\n",
       "102312  4106902  Curitiba     2009    778"
      ]
     },
     "execution_count": 76,
     "metadata": {},
     "output_type": "execute_result"
    }
   ],
   "source": [
    "# Removves all duplicates from the dataframe\n",
    "df_cwb = df_cwb.drop_duplicates()\n",
    "df_cwb.head(10)"
   ]
  },
  {
   "cell_type": "code",
   "execution_count": 77,
   "id": "da2baf16",
   "metadata": {},
   "outputs": [
    {
     "data": {
      "text/plain": [
       "False"
      ]
     },
     "execution_count": 77,
     "metadata": {},
     "output_type": "execute_result"
    }
   ],
   "source": [
    "# Checks if there are duplicates in the dataframe\n",
    "duplicates = df_cwb.duplicated()\n",
    "has_duplicates = duplicates.any()\n",
    "has_duplicates"
   ]
  },
  {
   "cell_type": "code",
   "execution_count": 78,
   "id": "aba1a9b5",
   "metadata": {},
   "outputs": [
    {
     "name": "stdout",
     "output_type": "stream",
     "text": [
      "Ano inicial: 2000\n",
      "Ano final: 2019\n"
     ]
    }
   ],
   "source": [
    "# Gets the first and the last year from the dataframe\n",
    "min_year = df_cwb['período'].min()\n",
    "max_year = df_cwb['período'].max()\n",
    "\n",
    "print(f'Ano inicial: {min_year}\\nAno final: {max_year}')"
   ]
  },
  {
   "cell_type": "code",
   "execution_count": 79,
   "id": "ad84ca87",
   "metadata": {},
   "outputs": [
    {
     "data": {
      "text/html": [
       "<div>\n",
       "<style scoped>\n",
       "    .dataframe tbody tr th:only-of-type {\n",
       "        vertical-align: middle;\n",
       "    }\n",
       "\n",
       "    .dataframe tbody tr th {\n",
       "        vertical-align: top;\n",
       "    }\n",
       "\n",
       "    .dataframe thead th {\n",
       "        text-align: right;\n",
       "    }\n",
       "</style>\n",
       "<table border=\"1\" class=\"dataframe\">\n",
       "  <thead>\n",
       "    <tr style=\"text-align: right;\">\n",
       "      <th></th>\n",
       "      <th>cod</th>\n",
       "      <th>período</th>\n",
       "      <th>valor</th>\n",
       "    </tr>\n",
       "  </thead>\n",
       "  <tbody>\n",
       "    <tr>\n",
       "      <th>count</th>\n",
       "      <td>20.0</td>\n",
       "      <td>20.00000</td>\n",
       "      <td>20.000000</td>\n",
       "    </tr>\n",
       "    <tr>\n",
       "      <th>mean</th>\n",
       "      <td>4106902.0</td>\n",
       "      <td>2009.50000</td>\n",
       "      <td>562.250000</td>\n",
       "    </tr>\n",
       "    <tr>\n",
       "      <th>std</th>\n",
       "      <td>0.0</td>\n",
       "      <td>5.91608</td>\n",
       "      <td>144.742194</td>\n",
       "    </tr>\n",
       "    <tr>\n",
       "      <th>min</th>\n",
       "      <td>4106902.0</td>\n",
       "      <td>2000.00000</td>\n",
       "      <td>319.000000</td>\n",
       "    </tr>\n",
       "    <tr>\n",
       "      <th>25%</th>\n",
       "      <td>4106902.0</td>\n",
       "      <td>2004.75000</td>\n",
       "      <td>445.250000</td>\n",
       "    </tr>\n",
       "    <tr>\n",
       "      <th>50%</th>\n",
       "      <td>4106902.0</td>\n",
       "      <td>2009.50000</td>\n",
       "      <td>574.000000</td>\n",
       "    </tr>\n",
       "    <tr>\n",
       "      <th>75%</th>\n",
       "      <td>4106902.0</td>\n",
       "      <td>2014.25000</td>\n",
       "      <td>667.750000</td>\n",
       "    </tr>\n",
       "    <tr>\n",
       "      <th>max</th>\n",
       "      <td>4106902.0</td>\n",
       "      <td>2019.00000</td>\n",
       "      <td>778.000000</td>\n",
       "    </tr>\n",
       "  </tbody>\n",
       "</table>\n",
       "</div>"
      ],
      "text/plain": [
       "             cod     período       valor\n",
       "count       20.0    20.00000   20.000000\n",
       "mean   4106902.0  2009.50000  562.250000\n",
       "std          0.0     5.91608  144.742194\n",
       "min    4106902.0  2000.00000  319.000000\n",
       "25%    4106902.0  2004.75000  445.250000\n",
       "50%    4106902.0  2009.50000  574.000000\n",
       "75%    4106902.0  2014.25000  667.750000\n",
       "max    4106902.0  2019.00000  778.000000"
      ]
     },
     "execution_count": 79,
     "metadata": {},
     "output_type": "execute_result"
    }
   ],
   "source": [
    "# Returns a summary of all data in the dataframe\n",
    "df_cwb.describe()"
   ]
  },
  {
   "cell_type": "code",
   "execution_count": 80,
   "id": "563e039c",
   "metadata": {},
   "outputs": [
    {
     "data": {
      "text/plain": [
       "<AxesSubplot:>"
      ]
     },
     "execution_count": 80,
     "metadata": {},
     "output_type": "execute_result"
    },
    {
     "data": {
      "image/png": "[encoded data removed]",
      "text/plain": [
       "<Figure size 640x480 with 1 Axes>"
      ]
     },
     "metadata": {},
     "output_type": "display_data"
    }
   ],
   "source": [
    "# Shows a boxplot with summary of the entire data\n",
    "df_cwb.boxplot(column='valor')"
   ]
  },
  {
   "cell_type": "code",
   "execution_count": 81,
   "id": "dc214623",
   "metadata": {},
   "outputs": [
    {
     "data": {
      "text/plain": [
       "<AxesSubplot:xlabel='Ano', ylabel='Número de Homicídios'>"
      ]
     },
     "execution_count": 81,
     "metadata": {},
     "output_type": "execute_result"
    },
    {
     "data": {
      "image/png": "[encoded data removed]",
      "text/plain": [
       "<Figure size 640x480 with 1 Axes>"
      ]
     },
     "metadata": {},
     "output_type": "display_data"
    }
   ],
   "source": [
    "# Plot a time series of number of homicides per year\n",
    "df_plot = df_cwb.plot(x='período', y='valor', kind='line')\n",
    "df_plot.set_xlabel('Ano')\n",
    "df_plot.set_ylabel('Número de Homicídios')\n",
    "df_plot"
   ]
  },
  {
   "cell_type": "code",
   "execution_count": 82,
   "id": "80cbc39b",
   "metadata": {},
   "outputs": [
    {
     "data": {
      "text/plain": [
       "<AxesSubplot:xlabel='Ano', ylabel='Número de Homicídios'>"
      ]
     },
     "execution_count": 82,
     "metadata": {},
     "output_type": "execute_result"
    },
    {
     "data": {
      "image/png": "[encoded data removed]",
      "text/plain": [
       "<Figure size 640x480 with 1 Axes>"
      ]
     },
     "metadata": {},
     "output_type": "display_data"
    }
   ],
   "source": [
    "# Sorts the dataframe by column \"valor\"\n",
    "# Plots a bar chart showing the years ranked by column \"valor\"\n",
    "df_sorted = df_cwb.sort_values(by='valor', ascending=False)\n",
    "df_plot = df_sorted.plot.bar(x='período', y='valor', rot=90)\n",
    "df_plot.set_xlabel('Ano')\n",
    "df_plot.set_ylabel('Número de Homicídios')\n",
    "df_plot"
   ]
  },
  {
   "cell_type": "code",
   "execution_count": null,
   "id": "6d08c60d",
   "metadata": {},
   "outputs": [],
   "source": []
  }
 ],
 "metadata": {
  "kernelspec": {
   "display_name": "Python 3 (ipykernel)",
   "language": "python",
   "name": "python3"
  },
  "language_info": {
   "codemirror_mode": {
    "name": "ipython",
    "version": 3
   },
   "file_extension": ".py",
   "mimetype": "text/x-python",
   "name": "python",
   "nbconvert_exporter": "python",
   "pygments_lexer": "ipython3",
   "version": "3.9.13"
  }
 },
 "nbformat": 4,
 "nbformat_minor": 5
}
